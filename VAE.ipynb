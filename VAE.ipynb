{
  "nbformat": 4,
  "nbformat_minor": 0,
  "metadata": {
    "colab": {
      "provenance": [],
      "gpuType": "T4"
    },
    "kernelspec": {
      "name": "python3",
      "display_name": "Python 3"
    },
    "language_info": {
      "name": "python"
    },
    "accelerator": "GPU"
  },
  "cells": [
    {
      "cell_type": "code",
      "execution_count": null,
      "metadata": {
        "id": "Fh1-GxP_pUP9"
      },
      "outputs": [],
      "source": [
        "from keras.models import Model\n",
        "from keras.datasets import mnist\n",
        "from keras.layers import Dense, Input\n",
        "from keras.layers import Conv2D, Flatten, Lambda\n",
        "from keras.layers import Reshape, Conv2DTranspose\n",
        "from keras import backend as K\n",
        "from keras.losses import binary_crossentropy\n",
        "from numpy import reshape\n",
        "import matplotlib.pyplot as plt"
      ]
    },
    {
      "cell_type": "code",
      "source": [
        "(x_train, y_train), (x_test, y_test) = mnist.load_data()\n",
        "print(x_train.shape, x_test.shape)"
      ],
      "metadata": {
        "colab": {
          "base_uri": "https://localhost:8080/"
        },
        "id": "OMYrl5fxpfVc",
        "outputId": "ab9243ff-4ce4-4140-bc6a-a1388f565d37"
      },
      "execution_count": null,
      "outputs": [
        {
          "output_type": "stream",
          "name": "stdout",
          "text": [
            "Downloading data from https://storage.googleapis.com/tensorflow/tf-keras-datasets/mnist.npz\n",
            "11490434/11490434 [==============================] - 0s 0us/step\n",
            "(60000, 28, 28) (10000, 28, 28)\n"
          ]
        }
      ]
    },
    {
      "cell_type": "code",
      "source": [
        "image_size = x_train.shape[1]\n",
        "x_train = reshape(x_train, [-1, image_size, image_size, 1])\n",
        "x_test = reshape(x_test, [-1, image_size, image_size, 1])"
      ],
      "metadata": {
        "id": "rJ3IzvIEpkT6"
      },
      "execution_count": null,
      "outputs": []
    },
    {
      "cell_type": "code",
      "source": [
        "print(x_train.shape, x_test.shape)"
      ],
      "metadata": {
        "colab": {
          "base_uri": "https://localhost:8080/"
        },
        "id": "BaOm9G39pmPS",
        "outputId": "947150cd-079c-42a1-b0c4-e48859bf2353"
      },
      "execution_count": null,
      "outputs": [
        {
          "output_type": "stream",
          "name": "stdout",
          "text": [
            "(60000, 28, 28, 1) (10000, 28, 28, 1)\n"
          ]
        }
      ]
    },
    {
      "cell_type": "code",
      "source": [
        "x_train = x_train.astype('float32') / 255\n",
        "x_test = x_test.astype('float32') / 255"
      ],
      "metadata": {
        "id": "xS6WIJTZpvA7"
      },
      "execution_count": null,
      "outputs": []
    },
    {
      "cell_type": "code",
      "source": [
        "latent_dim = 8"
      ],
      "metadata": {
        "id": "pj-EN9FApw3s"
      },
      "execution_count": null,
      "outputs": []
    },
    {
      "cell_type": "code",
      "source": [
        "def sampling(args):\n",
        "    z_mean, z_log_var = args\n",
        "    batch = K.shape(z_mean)[0]\n",
        "    dim = K.int_shape(z_mean)[1]\n",
        "    epsilon = K.random_normal(shape=(batch, dim))\n",
        "    return z_mean + K.exp(0.5 * z_log_var) * epsilon\n"
      ],
      "metadata": {
        "id": "W9x7vO9OpyjD"
      },
      "execution_count": null,
      "outputs": []
    },
    {
      "cell_type": "code",
      "source": [
        "input_img = Input(shape=(image_size, image_size, 1),)"
      ],
      "metadata": {
        "id": "3jQ10J_hp0Zz"
      },
      "execution_count": null,
      "outputs": []
    },
    {
      "cell_type": "code",
      "source": [
        "h=Conv2D(16,kernel_size=3,activation='relu',padding='same',strides=2)(input_img)\n",
        "enc_ouput=Conv2D(32,kernel_size=3,activation='relu',padding='same',strides=2)(h)\n"
      ],
      "metadata": {
        "id": "iFMss-xgp2lx"
      },
      "execution_count": null,
      "outputs": []
    },
    {
      "cell_type": "code",
      "source": [
        "shape = K.int_shape(enc_ouput)\n",
        "x = Flatten()(enc_ouput)\n",
        "x = Dense(16, activation='relu')(x)\n",
        "z_mean = Dense(latent_dim, name='z_mean')(x)\n",
        "z_log_var = Dense(latent_dim, name='z_log_var')(x)\n",
        "z = Lambda(sampling, output_shape=(latent_dim,), name='z')([z_mean, z_log_var])"
      ],
      "metadata": {
        "id": "H72rYoKQp4ak"
      },
      "execution_count": null,
      "outputs": []
    },
    {
      "cell_type": "code",
      "source": [
        "\n",
        "encoder = Model(input_img, [z_mean, z_log_var, z], name='encoder')\n",
        "encoder.summary()"
      ],
      "metadata": {
        "colab": {
          "base_uri": "https://localhost:8080/"
        },
        "id": "T-gvLSuqp8Kc",
        "outputId": "c224239a-30ba-4315-c29f-64dc114f52ac"
      },
      "execution_count": null,
      "outputs": [
        {
          "output_type": "stream",
          "name": "stdout",
          "text": [
            "Model: \"encoder\"\n",
            "__________________________________________________________________________________________________\n",
            " Layer (type)                Output Shape                 Param #   Connected to                  \n",
            "==================================================================================================\n",
            " input_1 (InputLayer)        [(None, 28, 28, 1)]          0         []                            \n",
            "                                                                                                  \n",
            " conv2d (Conv2D)             (None, 14, 14, 16)           160       ['input_1[0][0]']             \n",
            "                                                                                                  \n",
            " conv2d_1 (Conv2D)           (None, 7, 7, 32)             4640      ['conv2d[0][0]']              \n",
            "                                                                                                  \n",
            " flatten (Flatten)           (None, 1568)                 0         ['conv2d_1[0][0]']            \n",
            "                                                                                                  \n",
            " dense (Dense)               (None, 16)                   25104     ['flatten[0][0]']             \n",
            "                                                                                                  \n",
            " z_mean (Dense)              (None, 8)                    136       ['dense[0][0]']               \n",
            "                                                                                                  \n",
            " z_log_var (Dense)           (None, 8)                    136       ['dense[0][0]']               \n",
            "                                                                                                  \n",
            " z (Lambda)                  (None, 8)                    0         ['z_mean[0][0]',              \n",
            "                                                                     'z_log_var[0][0]']           \n",
            "                                                                                                  \n",
            "==================================================================================================\n",
            "Total params: 30176 (117.88 KB)\n",
            "Trainable params: 30176 (117.88 KB)\n",
            "Non-trainable params: 0 (0.00 Byte)\n",
            "__________________________________________________________________________________________________\n"
          ]
        }
      ]
    },
    {
      "cell_type": "code",
      "source": [
        "latent_inputs = Input(shape=(latent_dim,), name='z_sampling')\n",
        "x = Dense(shape[1] * shape[2] * shape[3], activation='relu')(latent_inputs)\n",
        "x = Reshape((shape[1], shape[2], shape[3]))(x)\n",
        "\n",
        "x=Conv2DTranspose(32, kernel_size=3,activation='relu',strides=2,padding='same')(x)\n",
        "x=Conv2DTranspose(16, kernel_size=3,activation='relu',strides=2,padding='same')(x)\n",
        "dec_output=Conv2DTranspose(1, kernel_size=3, activation='relu',padding='same')(x)\n"
      ],
      "metadata": {
        "id": "WCHR-xg1p-Vk"
      },
      "execution_count": null,
      "outputs": []
    },
    {
      "cell_type": "code",
      "source": [
        "decoder = Model(latent_inputs, dec_output, name='decoder')\n",
        "decoder.summary()"
      ],
      "metadata": {
        "colab": {
          "base_uri": "https://localhost:8080/"
        },
        "id": "BTQWpVQkqBlU",
        "outputId": "a1ad5f47-0f6e-464d-93d4-8f56e6fb973f"
      },
      "execution_count": null,
      "outputs": [
        {
          "output_type": "stream",
          "name": "stdout",
          "text": [
            "Model: \"decoder\"\n",
            "_________________________________________________________________\n",
            " Layer (type)                Output Shape              Param #   \n",
            "=================================================================\n",
            " z_sampling (InputLayer)     [(None, 8)]               0         \n",
            "                                                                 \n",
            " dense_1 (Dense)             (None, 1568)              14112     \n",
            "                                                                 \n",
            " reshape (Reshape)           (None, 7, 7, 32)          0         \n",
            "                                                                 \n",
            " conv2d_transpose (Conv2DTr  (None, 14, 14, 32)        9248      \n",
            " anspose)                                                        \n",
            "                                                                 \n",
            " conv2d_transpose_1 (Conv2D  (None, 28, 28, 16)        4624      \n",
            " Transpose)                                                      \n",
            "                                                                 \n",
            " conv2d_transpose_2 (Conv2D  (None, 28, 28, 1)         145       \n",
            " Transpose)                                                      \n",
            "                                                                 \n",
            "=================================================================\n",
            "Total params: 28129 (109.88 KB)\n",
            "Trainable params: 28129 (109.88 KB)\n",
            "Non-trainable params: 0 (0.00 Byte)\n",
            "_________________________________________________________________\n"
          ]
        }
      ]
    },
    {
      "cell_type": "code",
      "source": [
        "outputs = decoder(encoder(input_img)[2])\n",
        "vae = Model(input_img, outputs, name='vae')"
      ],
      "metadata": {
        "id": "3tZz_GLZqDpd"
      },
      "execution_count": null,
      "outputs": []
    },
    {
      "cell_type": "code",
      "source": [
        "reconst_loss = binary_crossentropy(K.flatten(input_img), K.flatten(outputs))\n",
        "reconst_loss *= image_size * image_size\n",
        "kl_loss = 1 + z_log_var - K.square(z_mean) - K.exp(z_log_var)\n",
        "kl_loss = K.sum(kl_loss, axis=-1)\n",
        "kl_loss *= -0.5\n",
        "vae_loss = K.mean(reconst_loss + kl_loss)"
      ],
      "metadata": {
        "id": "q-0pa-V2qFud"
      },
      "execution_count": null,
      "outputs": []
    },
    {
      "cell_type": "code",
      "source": [
        "vae.add_loss(vae_loss)\n",
        "vae.compile(optimizer='rmsprop')\n",
        "vae.summary()"
      ],
      "metadata": {
        "colab": {
          "base_uri": "https://localhost:8080/"
        },
        "id": "-D2Z1_O4qHz1",
        "outputId": "9153c2a1-e5bc-49a3-f74d-486f329192de"
      },
      "execution_count": null,
      "outputs": [
        {
          "output_type": "stream",
          "name": "stdout",
          "text": [
            "Model: \"vae\"\n",
            "__________________________________________________________________________________________________\n",
            " Layer (type)                Output Shape                 Param #   Connected to                  \n",
            "==================================================================================================\n",
            " input_1 (InputLayer)        [(None, 28, 28, 1)]          0         []                            \n",
            "                                                                                                  \n",
            " encoder (Functional)        [(None, 8),                  30176     ['input_1[0][0]']             \n",
            "                              (None, 8),                                                          \n",
            "                              (None, 8)]                                                          \n",
            "                                                                                                  \n",
            " decoder (Functional)        (None, 28, 28, 1)            28129     ['encoder[0][2]']             \n",
            "                                                                                                  \n",
            " conv2d (Conv2D)             (None, 14, 14, 16)           160       ['input_1[0][0]']             \n",
            "                                                                                                  \n",
            " conv2d_1 (Conv2D)           (None, 7, 7, 32)             4640      ['conv2d[0][0]']              \n",
            "                                                                                                  \n",
            " flatten (Flatten)           (None, 1568)                 0         ['conv2d_1[0][0]']            \n",
            "                                                                                                  \n",
            " dense (Dense)               (None, 16)                   25104     ['flatten[0][0]']             \n",
            "                                                                                                  \n",
            " z_log_var (Dense)           (None, 8)                    136       ['dense[0][0]']               \n",
            "                                                                                                  \n",
            " z_mean (Dense)              (None, 8)                    136       ['dense[0][0]']               \n",
            "                                                                                                  \n",
            " tf.reshape (TFOpLambda)     (None,)                      0         ['input_1[0][0]']             \n",
            "                                                                                                  \n",
            " tf.reshape_1 (TFOpLambda)   (None,)                      0         ['decoder[0][0]']             \n",
            "                                                                                                  \n",
            " tf.__operators__.add (TFOp  (None, 8)                    0         ['z_log_var[0][0]']           \n",
            " Lambda)                                                                                          \n",
            "                                                                                                  \n",
            " tf.math.square (TFOpLambda  (None, 8)                    0         ['z_mean[0][0]']              \n",
            " )                                                                                                \n",
            "                                                                                                  \n",
            " tf.cast (TFOpLambda)        (None,)                      0         ['tf.reshape[0][0]']          \n",
            "                                                                                                  \n",
            " tf.convert_to_tensor (TFOp  (None,)                      0         ['tf.reshape_1[0][0]']        \n",
            " Lambda)                                                                                          \n",
            "                                                                                                  \n",
            " tf.math.subtract (TFOpLamb  (None, 8)                    0         ['tf.__operators__.add[0][0]',\n",
            " da)                                                                 'tf.math.square[0][0]']      \n",
            "                                                                                                  \n",
            " tf.math.exp (TFOpLambda)    (None, 8)                    0         ['z_log_var[0][0]']           \n",
            "                                                                                                  \n",
            " tf.keras.backend.binary_cr  (None,)                      0         ['tf.cast[0][0]',             \n",
            " ossentropy (TFOpLambda)                                             'tf.convert_to_tensor[0][0]']\n",
            "                                                                                                  \n",
            " tf.math.subtract_1 (TFOpLa  (None, 8)                    0         ['tf.math.subtract[0][0]',    \n",
            " mbda)                                                               'tf.math.exp[0][0]']         \n",
            "                                                                                                  \n",
            " tf.math.reduce_mean (TFOpL  ()                           0         ['tf.keras.backend.binary_cros\n",
            " ambda)                                                             sentropy[0][0]']              \n",
            "                                                                                                  \n",
            " tf.math.reduce_sum (TFOpLa  (None,)                      0         ['tf.math.subtract_1[0][0]']  \n",
            " mbda)                                                                                            \n",
            "                                                                                                  \n",
            " tf.math.multiply (TFOpLamb  ()                           0         ['tf.math.reduce_mean[0][0]'] \n",
            " da)                                                                                              \n",
            "                                                                                                  \n",
            " tf.math.multiply_1 (TFOpLa  (None,)                      0         ['tf.math.reduce_sum[0][0]']  \n",
            " mbda)                                                                                            \n",
            "                                                                                                  \n",
            " tf.__operators__.add_1 (TF  (None,)                      0         ['tf.math.multiply[0][0]',    \n",
            " OpLambda)                                                           'tf.math.multiply_1[0][0]']  \n",
            "                                                                                                  \n",
            " tf.math.reduce_mean_1 (TFO  ()                           0         ['tf.__operators__.add_1[0][0]\n",
            " pLambda)                                                           ']                            \n",
            "                                                                                                  \n",
            " add_loss (AddLoss)          ()                           0         ['tf.math.reduce_mean_1[0][0]'\n",
            "                                                                    ]                             \n",
            "                                                                                                  \n",
            "==================================================================================================\n",
            "Total params: 58305 (227.75 KB)\n",
            "Trainable params: 58305 (227.75 KB)\n",
            "Non-trainable params: 0 (0.00 Byte)\n",
            "__________________________________________________________________________________________________\n"
          ]
        }
      ]
    },
    {
      "cell_type": "code",
      "source": [
        "vae.fit(x_train,epochs=20,batch_size=128,shuffle=True,validation_data=(x_test,None))"
      ],
      "metadata": {
        "colab": {
          "base_uri": "https://localhost:8080/"
        },
        "id": "nHohyf-uqJWl",
        "outputId": "28dd83b3-7f16-4de6-d84c-272698c76095"
      },
      "execution_count": null,
      "outputs": [
        {
          "output_type": "stream",
          "name": "stdout",
          "text": [
            "Epoch 1/20\n",
            "469/469 [==============================] - 15s 8ms/step - loss: 185.6709 - val_loss: 152.6142\n",
            "Epoch 2/20\n",
            "469/469 [==============================] - 3s 7ms/step - loss: 149.0474 - val_loss: 142.8872\n",
            "Epoch 3/20\n",
            "469/469 [==============================] - 4s 9ms/step - loss: 141.0977 - val_loss: 134.5671\n",
            "Epoch 4/20\n",
            "469/469 [==============================] - 4s 8ms/step - loss: 136.5984 - val_loss: 141.1543\n",
            "Epoch 5/20\n",
            "469/469 [==============================] - 3s 7ms/step - loss: 132.0811 - val_loss: 127.3668\n",
            "Epoch 6/20\n",
            "469/469 [==============================] - 4s 8ms/step - loss: 129.2284 - val_loss: 129.1530\n",
            "Epoch 7/20\n",
            "469/469 [==============================] - 4s 7ms/step - loss: 127.3609 - val_loss: 128.5590\n",
            "Epoch 8/20\n",
            "469/469 [==============================] - 3s 7ms/step - loss: 125.7790 - val_loss: 123.6505\n",
            "Epoch 9/20\n",
            "469/469 [==============================] - 3s 7ms/step - loss: 124.2508 - val_loss: 127.8892\n",
            "Epoch 10/20\n",
            "469/469 [==============================] - 4s 8ms/step - loss: 123.0494 - val_loss: 121.2222\n",
            "Epoch 11/20\n",
            "469/469 [==============================] - 3s 7ms/step - loss: 122.0381 - val_loss: 119.4805\n",
            "Epoch 12/20\n",
            "469/469 [==============================] - 3s 7ms/step - loss: 121.3691 - val_loss: 119.4610\n",
            "Epoch 13/20\n",
            "469/469 [==============================] - 4s 7ms/step - loss: 120.9943 - val_loss: 125.5348\n",
            "Epoch 14/20\n",
            "469/469 [==============================] - 4s 8ms/step - loss: 120.4175 - val_loss: 117.8710\n",
            "Epoch 15/20\n",
            "469/469 [==============================] - 3s 7ms/step - loss: 119.9638 - val_loss: 117.3790\n",
            "Epoch 16/20\n",
            "469/469 [==============================] - 3s 7ms/step - loss: 119.1771 - val_loss: 120.5762\n",
            "Epoch 17/20\n",
            "469/469 [==============================] - 4s 8ms/step - loss: 118.8821 - val_loss: 120.5683\n",
            "Epoch 18/20\n",
            "469/469 [==============================] - 3s 7ms/step - loss: 118.2192 - val_loss: 115.9461\n",
            "Epoch 19/20\n",
            "469/469 [==============================] - 3s 7ms/step - loss: 117.9511 - val_loss: 116.8904\n",
            "Epoch 20/20\n",
            "469/469 [==============================] - 3s 7ms/step - loss: 117.6611 - val_loss: 116.5003\n"
          ]
        },
        {
          "output_type": "execute_result",
          "data": {
            "text/plain": [
              "<keras.src.callbacks.History at 0x7d7dfe910850>"
            ]
          },
          "metadata": {},
          "execution_count": 20
        }
      ]
    },
    {
      "cell_type": "code",
      "source": [
        "z_mean, _, _ = encoder.predict(x_test)\n",
        "decoded_imgs = decoder.predict(z_mean)"
      ],
      "metadata": {
        "colab": {
          "base_uri": "https://localhost:8080/"
        },
        "id": "to49si1SqMBV",
        "outputId": "cadc786e-2843-47cc-ce0c-8fa67767f69c"
      },
      "execution_count": null,
      "outputs": [
        {
          "output_type": "stream",
          "name": "stdout",
          "text": [
            "313/313 [==============================] - 1s 3ms/step\n",
            "313/313 [==============================] - 1s 2ms/step\n"
          ]
        }
      ]
    },
    {
      "cell_type": "code",
      "source": [
        "n = 10\n",
        "plt.figure(figsize=(20, 4))\n",
        "for i in range(10):\n",
        "\tplt.gray()\n",
        "\tax = plt.subplot(2, n, i+1)\n",
        "\tplt.imshow(x_test[i].reshape(28, 28))\n",
        "\tax.get_xaxis().set_visible(False)\n",
        "\tax.get_yaxis().set_visible(False)\n",
        "\n",
        "\tax = plt.subplot(2, n, i +1+n)\n",
        "\tplt.imshow(decoded_imgs[i].reshape(28, 28))\n",
        "\tax.get_xaxis().set_visible(False)\n",
        "\tax.get_yaxis().set_visible(False)\n",
        "plt.show()\n"
      ],
      "metadata": {
        "colab": {
          "base_uri": "https://localhost:8080/",
          "height": 260
        },
        "id": "_Udssq-1rhzc",
        "outputId": "4140eaa3-79c9-4138-dee8-13fc93fe1c73"
      },
      "execution_count": null,
      "outputs": [
        {
          "output_type": "display_data",
          "data": {
            "text/plain": [
              "<Figure size 2000x400 with 20 Axes>"
            ],
            "image/png": "[encoded data removed]"
          },
          "metadata": {}
        }
      ]
    },
    {
      "cell_type": "code",
      "source": [],
      "metadata": {
        "id": "O28yEXu9rk8l"
      },
      "execution_count": null,
      "outputs": []
    }
  ]
}